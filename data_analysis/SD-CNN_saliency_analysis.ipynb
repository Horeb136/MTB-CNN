{
 "cells": [
  {
   "cell_type": "code",
   "execution_count": 11,
   "metadata": {},
   "outputs": [],
   "source": [
    "import pandas as pd\n",
    "import numpy as np\n",
    "import matplotlib.pyplot as plt\n",
    "import joblib\n",
    "import glob\n",
    "import seaborn as sns"
   ]
  },
  {
   "cell_type": "raw",
   "metadata": {},
   "source": [
    "# Read in the saliency file for each drug\n",
    "\n",
    "# Label with correct positions and gene name\n",
    "\n",
    "# take the top 1 % of hits (using absolute value)\n",
    "\n",
    "# Compare to lineage-conferring SNPs\n",
    "\n",
    "# Compare to known resistance-conferring SNPs"
   ]
  },
  {
   "cell_type": "code",
   "execution_count": 12,
   "metadata": {},
   "outputs": [],
   "source": [
    "locus_list = [\n",
    "        \"acpM-kasA\",\n",
    "        \"gid\",\n",
    "        \"rpsA\",\n",
    "        \"clpC\",\n",
    "        \"embCAB\",\n",
    "        \"aftB-ubiA\",\n",
    "        \"rrs-rrl\",\n",
    "        \"ethAR\",\n",
    "        \"oxyR-ahpC\",\n",
    "        \"tlyA\",\n",
    "        \"KatG\",\n",
    "        \"rpsL\",\n",
    "        \"rpoBC\",\n",
    "        \"FabG1-inhA\",\n",
    "        \"eis\",\n",
    "        \"gyrBA\",\n",
    "        \"panD\",\n",
    "        \"pncA\"\n",
    "    ]\n",
    "\n",
    "drug_list = ['ETHIONAMIDE',\n",
    " 'STREPTOMYCIN',\n",
    " 'CAPREOMYCIN',\n",
    " 'RIFAMPICIN',\n",
    " 'PYRAZINAMIDE',\n",
    " 'AMIKACIN',\n",
    " 'KANAMYCIN',\n",
    " 'ETHAMBUTOL',\n",
    " 'OFLOXACIN',\n",
    " #'CIPROFLOXACIN',\n",
    " 'MOXIFLOXACIN',\n",
    " 'LEVOFLOXACIN',\n",
    " 'ISONIAZID']\n",
    "\n",
    "drug_to_loci = {\n",
    "    'ETHIONAMIDE':[ \"FabG1-inhA\",\"ethAR\"],\n",
    "    'STREPTOMYCIN':[\"gid\", \"rrs-rrl\", \"rpsL\"],\n",
    "    'CAPREOMYCIN':[\"tlyA\", \"rrs-rrl\"],\n",
    "    'RIFAMPICIN':[\"rpoBC\"],\n",
    "    'PYRAZINAMIDE':[\"pncA\", \"panD\", \"clpC\", \"rpsA\"],\n",
    "    'AMIKACIN':[\"eis\", \"rrs-rrl\"],\n",
    "    'KANAMYCIN':[\"eis\", \"rrs-rrl\"],\n",
    "    'ETHAMBUTOL':[\"embCAB\", \"aftB-ubiA\"],\n",
    "    'OFLOXACIN':[\"gyrBA\"],\n",
    "    #'CIPROFLOXACIN':[\"gyrBA\"],\n",
    "    'MOXIFLOXACIN':[\"gyrBA\"],\n",
    "    'LEVOFLOXACIN':[\"gyrBA\"],\n",
    "    'ISONIAZID':[\"acpM-kasA\", \"oxyR-ahpC\", \"KatG\", \"FabG1-inhA\"]\n",
    "}"
   ]
  },
  {
   "cell_type": "code",
   "execution_count": 13,
   "metadata": {},
   "outputs": [],
   "source": [
    "data_path = \"../output_data/\"\n",
    "\n",
    "# Read in the coordinates of the model in H37Rv numbering\n",
    "coords = np.load(f\"{data_path}/X_matrix_H37RV_coords.npy\")\n",
    "\n",
    "# Models were padded with 0, so fill in with nans\n",
    "coords[coords==0] = np.nan\n",
    "\n",
    "# Confirm correct locus lengths\n",
    "lens = coords.shape[0] - np.isnan(coords).sum(axis=0)\n",
    "name_to_len = {}\n",
    "for name, l in zip(locus_list, lens):\n",
    "    name_to_len[name] = l\n",
    " \n",
    "# coords were 0-indexed so must add 1\n",
    "coords = coords + 1"
   ]
  },
  {
   "cell_type": "markdown",
   "metadata": {},
   "source": [
    "## List of top positions per drug"
   ]
  },
  {
   "cell_type": "code",
   "execution_count": 8,
   "metadata": {},
   "outputs": [
    {
     "name": "stdout",
     "output_type": "stream",
     "text": [
      "mkdir: output: File exists\n"
     ]
    }
   ],
   "source": [
    "# lineage positions for comparison\n",
    "lineage_positions = pd.read_csv(\"../input_data/correlation_to_lineage_variants.csv\")\n",
    "lineage_positions[\"position\"] = lineage_positions.associated_position\n",
    "lineage_positions = lineage_positions.sort_values(\"position\")\n",
    "coll_positions = pd.read_csv(\"../input_data/Coll_2014_lineage_barcode.csv\")\n",
    "\n",
    "# Create a list of top 1 % of salient positions for each drug\n",
    "!mkdir output\n",
    "\n",
    "# Iterate through drugs and create a dataframe of the scores for each position\n",
    "for drug in drug_list:\n",
    "    combined_mean = np.load(f\"{data_path}/sd_cnn_saliency/{drug}_mean.npy\")\n",
    "    combined_max = np.load(f\"{data_path}/sd_cnn_saliency/{drug}_max.npy\")\n",
    "    \n",
    "    ### Find the appropriate coordinate subset\n",
    "    locus_indices = [locus_list.index(x) for x in drug_to_loci[drug]]\n",
    "    \n",
    "    gene_names = np.zeros_like(combined_mean, dtype=object)\n",
    "    for i,ax in enumerate(drug_to_loci[drug]):\n",
    "        gene_names[:,i] = [ax] *  combined_mean[:,i].shape[0]\n",
    "    \n",
    "    df = pd.DataFrame({\n",
    "        \"score_mean\": combined_mean.flatten(),\n",
    "        \"score_max\": combined_max.flatten(),\n",
    "        \"position\": coords[0:combined_mean.shape[0]][:,locus_indices].flatten(),\n",
    "        \"locus\": gene_names.flatten()\n",
    "    })\n",
    "    \n",
    "    df[\"abs_score\"] = np.abs(df.score_max)\n",
    "    df = df.sort_values(\"abs_score\", ascending=False)\n",
    "    df[\"in_coll_barcode\"] = [True if x in coll_positions.position else False for x in df.position]\n",
    "    df[\"in_freschi_barcode\"] = [True if x in set(lineage_positions.position) else False for x in df.position]\n",
    "    \n",
    "    top_n = len(df) * 0.01\n",
    "    \n",
    "    top_hits = df.iloc[0:int(top_n)]\n",
    "    \n",
    "    top_hits.to_csv(f\"output/{drug}_top_0p01_hits.csv\")\n",
    "    \n",
    "    df.to_csv(f\"output/{drug}_all_hits.csv\")"
   ]
  },
  {
   "cell_type": "markdown",
   "metadata": {},
   "source": [
    "## Analyze enrichment of lineage positions"
   ]
  },
  {
   "cell_type": "code",
   "execution_count": 15,
   "metadata": {},
   "outputs": [],
   "source": [
    "# First for top fraction of salient positions\n",
    "info = []\n",
    "for drug in drug_list:\n",
    "    saliency_file = f\"output/{drug}_top_0p01_hits.csv\"\n",
    "    d = pd.read_csv(saliency_file, index_col=0)\n",
    "    \n",
    "    top_n = int(len(d)* 0.1)\n",
    "    top_d = d.iloc[0:top_n]\n",
    "    \n",
    "    info.append([drug, len(d), np.sum(d.in_coll_barcode), np.sum(d.in_freschi_barcode),\n",
    "                np.sum(top_d.in_coll_barcode), np.sum(top_d.in_freschi_barcode)])\n",
    "\n",
    "df = pd.DataFrame(info, columns=[\"drug\", \"N_hits\", \"N_hits_coll\", \"N_hits_freschi\", \"N_hits_coll_0p001\", \"N_hits_freschi_0p001\"])\n",
    "\n",
    "df_top_0p01 = df\n",
    "\n",
    "\n",
    "# Now for all positions\n",
    "info = []\n",
    "for drug in drug_list:\n",
    "    saliency_file = f\"output/{drug}_all_hits.csv\"\n",
    "    d = pd.read_csv(saliency_file, index_col=0)\n",
    "    d[\"in_coll_barcode\"] = [True if x in coll_positions.position else False for x in d.position]\n",
    "    d[\"in_freschi_barcode\"] = [True if x in set(lineage_positions.position) else False for x in d.position]\n",
    "    d.to_csv(f\"output/{drug}_all_saliency_barcode.csv\")\n",
    "    \n",
    "    info.append([drug, len(d), np.sum(d.in_coll_barcode), np.sum(d.in_freschi_barcode)])\n",
    "\n",
    "df = pd.DataFrame(info, columns=[\"drug\", \"N_sites\", \"N_sites_hits_coll\", \"N_sites_hits_freschi\"])\n",
    "\n",
    "lineage_comparison_df = df\n",
    "lineage_comparison_df = lineage_comparison_df.merge(df_top_0p01, on=\"drug\")\n"
   ]
  },
  {
   "cell_type": "markdown",
   "metadata": {},
   "source": [
    "## Compare to known resistance-conferring SNPs"
   ]
  },
  {
   "cell_type": "code",
   "execution_count": 16,
   "metadata": {},
   "outputs": [],
   "source": [
    "! cp ../../../databases/WHO_resistance_variants_Cat1orCat2.csv ../output_data"
   ]
  },
  {
   "cell_type": "code",
   "execution_count": 17,
   "metadata": {},
   "outputs": [],
   "source": [
    "final_confidence_positions = pd.read_csv(\"../output_data/WHO_resistance_variants_Cat1orCat2.csv\")"
   ]
  },
  {
   "cell_type": "code",
   "execution_count": 22,
   "metadata": {},
   "outputs": [],
   "source": [
    "column_order = ['position',\"locus_x\", \"gene\", \"score_max\",  \n",
    "                \"score_mean\",\"abs_score\", \"in_coll_barcode\", \"in_freschi_barcode\",\n",
    "        'in_WHO', 'in_INH_WHO',\n",
    "       'in_RIF_WHO', 'in_EMB_WHO', 'in_STM_WHO', \n",
    "       'in_AMI_WHO', 'in_ETH_WHO', 'in_PZA_WHO', 'in_LEV_WHO', 'in_MXF_WHO',\n",
    "        'in_KAN_WHO']"
   ]
  },
  {
   "cell_type": "code",
   "execution_count": 23,
   "metadata": {},
   "outputs": [
    {
     "name": "stderr",
     "output_type": "stream",
     "text": [
      "/Users/agreen/miniconda3/lib/python3.8/site-packages/numpy/lib/arraysetops.py:569: FutureWarning: elementwise comparison failed; returning scalar instead, but in the future will perform elementwise comparison\n",
      "  mask |= (ar1 == a)\n"
     ]
    }
   ],
   "source": [
    "# Save a file on the top 1% of saliencies for each drug and whether they're implicated in resistance based on Maha's paper\n",
    "genome_position_to_gene = pd.read_csv(\"../../../databases/_OLD_genome_position_to_gene_2.csv\", index_col=0)\n",
    "genome_position_to_gene.head()\n",
    "\n",
    "info = []\n",
    "for drug in drug_list:\n",
    "    # read in the saliency file\n",
    "    saliency_file = f\"output/{drug}_top_0p01_hits.csv\"\n",
    "    d = pd.read_csv(saliency_file, index_col=0)\n",
    "    d = d.dropna(subset=[\"position\"])\n",
    "    d[\"coordinate\"] = d.position.astype(int)\n",
    "    \n",
    "    # for each position, label whether it was implicated in resistance to any drug in WHO set\n",
    "    column_names = []\n",
    "    for key,val in final_confidence_positions.groupby(\"drug\"):\n",
    "        sites = set(val.genome_index)\n",
    "        d[f\"in_{key}_WHO\"] = [x in sites for x in d.coordinate] \n",
    "        column_names.append(f\"in_{key}_WHO\")\n",
    "        \n",
    "    d[\"in_WHO\"] = np.any(d[column_names].values, axis=1)\n",
    "    \n",
    "    interest_df = d.merge(genome_position_to_gene, left_on=\"position\", right_on=\"i\", how=\"left\")\n",
    "    \n",
    "    # reorder columns and save\n",
    "    d = interest_df[column_order]  \n",
    "    d = d.sort_values(\"score_max\", ascending=False)\n",
    "    d[column_order].to_csv(f\"output/{drug}_0p01_saliency_resistance.csv\")\n",
    "    "
   ]
  },
  {
   "cell_type": "code",
   "execution_count": 24,
   "metadata": {},
   "outputs": [
    {
     "name": "stdout",
     "output_type": "stream",
     "text": [
      "ETHIONAMIDE 43 0.23255813953488372 0.75\n",
      "STREPTOMYCIN 166 0.26506024096385544 0.375\n",
      "CAPREOMYCIN 89 0.0449438202247191 0.5\n",
      "RIFAMPICIN 76 0.5526315789473685 0.8571428571428571\n",
      "PYRAZINAMIDE 159 0.6226415094339622 0.8\n",
      "AMIKACIN 117 0.06837606837606838 0.6363636363636364\n",
      "KANAMYCIN 114 0.07894736842105263 0.7272727272727273\n",
      "ETHAMBUTOL 205 0.05365853658536585 0.5\n",
      "OFLOXACIN 47 0.0851063829787234 1.0\n",
      "MOXIFLOXACIN 48 0.125 1.0\n",
      "LEVOFLOXACIN 48 0.0625 0.75\n",
      "ISONIAZID 139 0.09352517985611511 0.46153846153846156\n"
     ]
    }
   ],
   "source": [
    "## Count the percent of top hits for max and mean that are already known\n",
    "d = []\n",
    "for drug in drug_list:\n",
    "\n",
    "    df = pd.read_csv(f\"output/{drug}_0p01_saliency_resistance.csv\", index_col=0)\n",
    "    df = df.sort_values(\"score_mean\")\n",
    "    percent_known = len(df.query(\"in_WHO\"))/len(df)\n",
    "    \n",
    "    top_n = len(df) * 0.1\n",
    "    top_hits = df.iloc[0:int(top_n)]\n",
    "\n",
    "    percent_known_top_0p001 = len(top_hits.query(\"in_WHO\"))/len(top_hits)\n",
    "    \n",
    "    top_n = len(df) \n",
    "    top_hits = df.iloc[0:int(top_n)]\n",
    "\n",
    "    percent_known_top_0p01 = len(top_hits.query(\"in_WHO\"))/len(top_hits)\n",
    "    \n",
    "    print(drug,int(top_n), percent_known_top_0p01, percent_known_top_0p001)\n",
    "    d.append([drug,percent_known_top_0p01,percent_known_top_0p001 ])\n",
    "    #print(top_hits.query(\"not in_farhat\"))\n",
    "    \n",
    "pd.DataFrame(d, columns=[\"drug\", \"percent_known_top_0p01\", \"percent_known_top_0p001\"]).to_csv(\"percent_known.csv\")"
   ]
  },
  {
   "cell_type": "code",
   "execution_count": null,
   "metadata": {},
   "outputs": [],
   "source": []
  }
 ],
 "metadata": {
  "kernelspec": {
   "display_name": "Python 3",
   "language": "python",
   "name": "python3"
  },
  "language_info": {
   "codemirror_mode": {
    "name": "ipython",
    "version": 3
   },
   "file_extension": ".py",
   "mimetype": "text/x-python",
   "name": "python",
   "nbconvert_exporter": "python",
   "pygments_lexer": "ipython3",
   "version": "3.8.3"
  }
 },
 "nbformat": 4,
 "nbformat_minor": 4
}
