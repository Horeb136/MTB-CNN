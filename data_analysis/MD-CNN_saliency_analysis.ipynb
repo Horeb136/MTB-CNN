{
 "cells": [
  {
   "cell_type": "code",
   "execution_count": 1,
   "metadata": {},
   "outputs": [],
   "source": [
    "import pandas as pd\n",
    "import numpy as np\n",
    "import matplotlib.pyplot as plt\n",
    "import joblib\n",
    "\n",
    "import seaborn as sns"
   ]
  },
  {
   "cell_type": "code",
   "execution_count": 2,
   "metadata": {},
   "outputs": [],
   "source": [
    "name_list = [\n",
    "        \"acpM-kasA\",\n",
    "        \"gid\",\n",
    "        \"rpsA\",\n",
    "        \"clpC\",\n",
    "        \"embCAB\",\n",
    "        \"aftB-ubiA\",\n",
    "        \"rrs-rrl\",\n",
    "        \"ethAR\",\n",
    "        \"oxyR-ahpC\",\n",
    "        \"tlyA\",\n",
    "        \"KatG\",\n",
    "        \"rpsL\",\n",
    "        \"rpoBC\",\n",
    "        \"FabG1-inhA\",\n",
    "        \"eis\",\n",
    "        \"gyrBA\",\n",
    "        \"panD\",\n",
    "        \"pncA\"\n",
    "    ]\n",
    "\n",
    "drug_list = ['ETHIONAMIDE',\n",
    " 'STREPTOMYCIN',\n",
    " 'CAPREOMYCIN',\n",
    " 'RIFAMPICIN',\n",
    " 'PYRAZINAMIDE',\n",
    " 'AMIKACIN',\n",
    " 'KANAMYCIN',\n",
    " 'ETHAMBUTOL',\n",
    " 'OFLOXACIN',\n",
    " 'CIPROFLOXACIN',\n",
    " 'MOXIFLOXACIN',\n",
    " 'LEVOFLOXACIN',\n",
    " 'ISONIAZID']\n",
    "\n",
    "drug_to_loci = {\n",
    "    'ETHIONAMIDE':[\"ethAR\", \"FabG1-inhA\"],\n",
    "    'STREPTOMYCIN':[\"rpsL\", \"rrs-rrl\", \"gid\"],\n",
    "    'CAPREOMYCIN':[\"tlyA\", \"rrs-rrl\"],\n",
    "    'RIFAMPICIN':[\"rpoBC\"],\n",
    "    'PYRAZINAMIDE':[\"rpsA\", \"clpC\", \"pncA\", \"panD\"],\n",
    "    'AMIKACIN':[\"rrs-rrl\", \"eis\"],\n",
    "    'KANAMYCIN':[\"rrs-rrl\", \"eis\"],\n",
    "    'ETHAMBUTOL':[\"embCAB\", \"aftB-ubiA\"],\n",
    "    'OFLOXACIN':[\"gyrBA\"],\n",
    "    'CIPROFLOXACIN':[\"gyrBA\"],\n",
    "    'MOXIFLOXACIN':[\"gyrBA\"],\n",
    "    'LEVOFLOXACIN':[\"gyrBA\"],\n",
    "    'ISONIAZID':[\"acpM-kasA\", \"KatG\", \"FabG1-inhA\", \"oxyR-ahpC\"]\n",
    "}"
   ]
  },
  {
   "cell_type": "code",
   "execution_count": 4,
   "metadata": {},
   "outputs": [
    {
     "name": "stdout",
     "output_type": "stream",
     "text": [
      "0 acpM-kasA length of locus 1670\n",
      "1 gid length of locus 806\n",
      "2 rpsA length of locus 1609\n",
      "3 clpC length of locus 4206\n",
      "4 embCAB length of locus 10147\n",
      "5 aftB-ubiA length of locus 2880\n",
      "6 rrs-rrl length of locus 5437\n",
      "7 ethAR length of locus 2195\n",
      "8 oxyR-ahpC length of locus 1303\n",
      "9 tlyA length of locus 991\n",
      "10 KatG length of locus 3471\n",
      "11 rpsL length of locus 623\n",
      "12 rpoBC length of locus 7711\n",
      "13 FabG1-inhA length of locus 2554\n",
      "14 eis length of locus 2531\n",
      "15 gyrBA length of locus 4821\n",
      "16 panD length of locus 2169\n",
      "17 pncA length of locus 1716\n"
     ]
    },
    {
     "data": {
      "text/plain": [
       "array([2517696., 4407529., 1833379., 4036732., 4239664., 4266954.,\n",
       "       1471577., 4326005., 2725478., 1917756., 2153236.,  781312.,\n",
       "        759610., 1672458., 2713784.,    4998., 4043042., 2287884.])"
      ]
     },
     "execution_count": 4,
     "metadata": {},
     "output_type": "execute_result"
    }
   ],
   "source": [
    "## Load in the H37Rv coordinates, sanity check by displaying length and starting coordinate\n",
    "coords = np.load(\"../output_data/X_matrix_H37RV_coords.npy\")\n",
    "\n",
    "coords[coords==0] = np.nan\n",
    "\n",
    "lens = coords.shape[0] - np.isnan(coords).sum(axis=0)\n",
    "name_to_len = {}\n",
    "for idx, (name, l) in enumerate(zip(name_list, lens)):\n",
    "    print(idx, name, \"length of locus\", l)\n",
    "    name_to_len[name] = l\n",
    "    \n",
    "coords = coords + 1\n",
    "coords[0,:]"
   ]
  },
  {
   "cell_type": "markdown",
   "metadata": {},
   "source": [
    "## List of top positions per drug"
   ]
  },
  {
   "cell_type": "code",
   "execution_count": 6,
   "metadata": {},
   "outputs": [
    {
     "name": "stdout",
     "output_type": "stream",
     "text": [
      "mkdir: output: File exists\n"
     ]
    }
   ],
   "source": [
    "# Create a list of top 1 % of salient positions for each drug\n",
    "!mkdir output\n",
    "\n",
    "# make a matrix that contains the name of each gene, with the same size as the \"combined\" matrix of scores\n",
    "combined = np.load(f\"../output_data/md_cnn_saliency/RIFAMPICIN_mean.npy\")\n",
    "gene_names = np.zeros_like(combined, dtype=object)\n",
    "for i,ax in enumerate(name_list):\n",
    "    gene_names[:,i] = [name_list[i]] * combined[:,i].shape[0]\n",
    "\n",
    "# Iterate through drugs and create a dataframe of the scores for each position\n",
    "for drug in drug_list:\n",
    "    combined_mean = np.load(f\"../output_data/md_cnn_saliency//{drug}_mean.npy\")\n",
    "    combined_max = np.load(f\"../output_data/md_cnn_saliency//{drug}_max.npy\")\n",
    "    df = pd.DataFrame({\n",
    "        \"score_mean\": combined_mean.flatten(),\n",
    "        \"score_max\": combined_max.flatten(),\n",
    "        \"position\": coords.flatten(),\n",
    "        \"locus\": gene_names.flatten()\n",
    "    })\n",
    "    \n",
    "    df[\"abs_score\"] = np.abs(df.score_max)\n",
    "    df = df.sort_values(\"abs_score\", ascending=False)\n",
    "    top_n = len(df) * 0.01\n",
    "    \n",
    "    top_hits = df.iloc[0:int(top_n)]\n",
    "    \n",
    "    top_hits.to_csv(f\"output/MD-CNN_{drug}_top_0p01_hits.csv\")"
   ]
  }
 ],
 "metadata": {
  "kernelspec": {
   "display_name": "Python 3",
   "language": "python",
   "name": "python3"
  },
  "language_info": {
   "codemirror_mode": {
    "name": "ipython",
    "version": 3
   },
   "file_extension": ".py",
   "mimetype": "text/x-python",
   "name": "python",
   "nbconvert_exporter": "python",
   "pygments_lexer": "ipython3",
   "version": "3.8.3"
  }
 },
 "nbformat": 4,
 "nbformat_minor": 4
}
