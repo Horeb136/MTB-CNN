{
 "cells": [
  {
   "cell_type": "code",
   "execution_count": 2,
   "metadata": {},
   "outputs": [],
   "source": [
    "import numpy as np\n",
    "import pandas as pd\n",
    "from scipy import stats\n",
    "import time\n",
    "from evcouplings.align import Alignment # install this using 'pip install evcouplings'\n",
    "import glob\n"
   ]
  },
  {
   "cell_type": "code",
   "execution_count": 3,
   "metadata": {},
   "outputs": [
    {
     "name": "stderr",
     "output_type": "stream",
     "text": [
      "/home/ag300/jupytervenv/lib/python3.7/site-packages/IPython/core/interactiveshell.py:3146: DtypeWarning: Columns (5,6,9,10,11,14,19,22,24) have mixed types.Specify dtype option on import or set low_memory=False.\n",
      "  interactivity=interactivity, compiler=compiler, result=result)\n"
     ]
    }
   ],
   "source": [
    "# Read in list of isolates\n",
    "phenotypes =  pd.read_csv(\"../input_data/master_table_resistance.csv\")\n",
    "isolate_order = list(phenotypes.Isolate)"
   ]
  },
  {
   "cell_type": "code",
   "execution_count": 4,
   "metadata": {},
   "outputs": [
    {
     "name": "stdout",
     "output_type": "stream",
     "text": [
      "/n/data2/hms/dbmi/beamlab/annachang/focus_cnn/fasta_files/oxyR-ahpC_20201206.fasta\n",
      "original alignment shape (23051, 1354)\n",
      "reduced alignment shape (23051, 26)\n",
      "shape with isolates ordered (23040, 26)\n",
      "/n/data2/hms/dbmi/beamlab/annachang/focus_cnn/fasta_files/acpM-kasA_20201206.fasta\n",
      "original alignment shape (23051, 1679)\n",
      "reduced alignment shape (23051, 18)\n",
      "shape with isolates ordered (23040, 18)\n",
      "/n/data2/hms/dbmi/beamlab/annachang/focus_cnn/fasta_files/gid_20201206.fasta\n",
      "original alignment shape (23051, 1042)\n",
      "reduced alignment shape (23051, 187)\n",
      "shape with isolates ordered (23040, 187)\n",
      "/n/data2/hms/dbmi/beamlab/annachang/focus_cnn/fasta_files/FabG1-inhA_20201206.fasta\n",
      "original alignment shape (23051, 2594)\n",
      "reduced alignment shape (23051, 38)\n",
      "shape with isolates ordered (23040, 38)\n",
      "/n/data2/hms/dbmi/beamlab/annachang/focus_cnn/fasta_files/panD_20201213.fasta\n",
      "original alignment shape (23051, 2187)\n",
      "reduced alignment shape (23051, 26)\n",
      "shape with isolates ordered (23040, 26)\n",
      "/n/data2/hms/dbmi/beamlab/annachang/focus_cnn/fasta_files/embCAB_20201206.fasta\n",
      "original alignment shape (23051, 10291)\n",
      "reduced alignment shape (23051, 151)\n",
      "shape with isolates ordered (23040, 151)\n",
      "/n/data2/hms/dbmi/beamlab/annachang/focus_cnn/fasta_files/aftB-ubiA_20201206.fasta\n",
      "original alignment shape (23051, 2915)\n",
      "reduced alignment shape (23051, 53)\n",
      "shape with isolates ordered (23040, 53)\n",
      "/n/data2/hms/dbmi/beamlab/annachang/focus_cnn/fasta_files/gyrBA_20201206.fasta\n",
      "original alignment shape (23051, 4859)\n",
      "reduced alignment shape (23051, 88)\n",
      "shape with isolates ordered (23040, 88)\n",
      "/n/data2/hms/dbmi/beamlab/annachang/focus_cnn/fasta_files/ethAR_20201206.fasta\n",
      "original alignment shape (23051, 2441)\n",
      "reduced alignment shape (23051, 180)\n",
      "shape with isolates ordered (23040, 180)\n",
      "/n/data2/hms/dbmi/beamlab/annachang/focus_cnn/fasta_files/rpsL_20201206.fasta\n",
      "original alignment shape (23051, 651)\n",
      "reduced alignment shape (23051, 7)\n",
      "shape with isolates ordered (23040, 7)\n",
      "/n/data2/hms/dbmi/beamlab/annachang/focus_cnn/fasta_files/tlyA_20201206.fasta\n",
      "original alignment shape (23051, 1029)\n",
      "reduced alignment shape (23051, 12)\n",
      "shape with isolates ordered (23040, 12)\n",
      "/n/data2/hms/dbmi/beamlab/annachang/focus_cnn/fasta_files/eis_20201206.fasta\n",
      "original alignment shape (23051, 2634)\n",
      "reduced alignment shape (23051, 117)\n",
      "shape with isolates ordered (23040, 117)\n",
      "/n/data2/hms/dbmi/beamlab/annachang/focus_cnn/fasta_files/clpC_20201213.fasta\n",
      "original alignment shape (23051, 4466)\n",
      "reduced alignment shape (23051, 187)\n",
      "shape with isolates ordered (23040, 187)\n",
      "/n/data2/hms/dbmi/beamlab/annachang/focus_cnn/fasta_files/rrs-rrl_20201206.fasta\n",
      "original alignment shape (23051, 6084)\n",
      "reduced alignment shape (23051, 642)\n",
      "shape with isolates ordered (23040, 642)\n",
      "/n/data2/hms/dbmi/beamlab/annachang/focus_cnn/fasta_files/rpsA_20201206.fasta\n",
      "original alignment shape (23051, 1645)\n",
      "reduced alignment shape (23051, 30)\n",
      "shape with isolates ordered (23040, 30)\n",
      "/n/data2/hms/dbmi/beamlab/annachang/focus_cnn/fasta_files/pncA_20201206.fasta\n",
      "original alignment shape (23051, 2048)\n",
      "reduced alignment shape (23051, 1019)\n",
      "shape with isolates ordered (23040, 1019)\n",
      "/n/data2/hms/dbmi/beamlab/annachang/focus_cnn/fasta_files/rpoBC_20201206.fasta\n",
      "original alignment shape (23051, 7910)\n",
      "reduced alignment shape (23051, 135)\n",
      "shape with isolates ordered (23040, 135)\n",
      "/n/data2/hms/dbmi/beamlab/annachang/focus_cnn/fasta_files/KatG_20201206.fasta\n",
      "original alignment shape (23051, 3735)\n",
      "reduced alignment shape (23051, 95)\n",
      "shape with isolates ordered (23040, 95)\n"
     ]
    }
   ],
   "source": [
    "# Iterate through each fasta file, select only the positions with a high enough MAF\n",
    "# Keep only the isolates with phenotype data, reorder the alignment to match isolate_order\n",
    "# save a reduced fasta file\n",
    "!mkdir fastas_reduced\n",
    "path_to_fastas = \"/n/data2/hms/dbmi/beamlab/annachang/focus_cnn/fasta_files/\"\n",
    "for f in glob.glob(f\"{path_to_fastas}/*.fasta\"):\n",
    "    print(f)\n",
    "    # Reads the alignment file\n",
    "    aln = Alignment.from_file(open(f))\n",
    "    \n",
    "    # Impose a minor allele frequency threshold of 0.001 in order to keep computation tractable\n",
    "    # NOTE: the order in which you do the MAF thresholding and then subsetting the isolates matters!\n",
    "    # Here it's fine because the only isolates in my fasta files are the ones that have phenotypes\n",
    "    indices_to_keep = np.where(aln.frequencies.max(axis=1) < .999)[0]\n",
    "    subset_alignment = aln.select(indices_to_keep)\n",
    "    \n",
    "    print(\"original alignment shape\", aln.matrix.shape)\n",
    "    print(\"reduced alignment shape\", subset_alignment.matrix.shape)\n",
    "    # Cleanup giant variables\n",
    "    del aln\n",
    "\n",
    "    # Get a list of the ids we are keeping, in order\n",
    "    \n",
    "    # First, correct the ids in the alignment so that they match the table of phenotypes\n",
    "    subset_alignment.ids = [x.split(\"/\")[-1].split(\".\")[0] for x in subset_alignment.ids]\n",
    "    subset_alignment.id_to_index = {x:idx for idx,x in enumerate(subset_alignment.ids)}\n",
    "    \n",
    "    # Get the indices that would correctly reorder the alignment to match isolate_order\n",
    "    reorder_index = [\n",
    "        subset_alignment.id_to_index[x] for x in isolate_order if x in subset_alignment.id_to_index\n",
    "    ]\n",
    "    \n",
    "    # Reorder based on reorder_index\n",
    "    subset_alignment.ids = list(np.array(subset_alignment.ids)[reorder_index])\n",
    "    subset_alignment.matrix = subset_alignment.matrix[reorder_index, :]\n",
    "    print(\"shape with isolates ordered\", subset_alignment.matrix.shape)\n",
    "    \n",
    "    # Get the name of the fasta file for saving\n",
    "    name = f.split(\"/\")[-1].split(\"_\")[0]\n",
    "    \n",
    "    # save the reduced file\n",
    "    subset_alignment.write(open(f\"fastas_reduced/{name}_reduced.fa\", \"w\"))\n",
    "    np.save(f\"fastas_reduced/{name}_indices.npy\", indices_to_keep)\n",
    "    \n",
    "# Save the isolate indices in order, just in case\n",
    "pd.DataFrame(subset_alignment.ids).to_csv(\"isolate_indexes.csv\")"
   ]
  },
  {
   "cell_type": "markdown",
   "metadata": {},
   "source": [
    "### Encode the fasta files for learning"
   ]
  },
  {
   "cell_type": "raw",
   "metadata": {},
   "source": [
    "Use a major/minor encoding, keeping the number of sites the same"
   ]
  },
  {
   "cell_type": "code",
   "execution_count": 5,
   "metadata": {},
   "outputs": [],
   "source": [
    "### If using one-hot, here's the functions\n",
    "\n",
    "# Mapping to use for one-hot encoding\n",
    "BASE_TO_COLUMN = {'A': 0, 'C': 1, 'T': 2, 'G': 3, '-': 4}\n",
    "\n",
    "# Get one hot vector\n",
    "def make_one_hot(matrix, BASE_TO_COLUMN=BASE_TO_COLUMN):\n",
    "    n_bases = len(BASE_TO_COLUMN.keys()) \n",
    "    one_hot = np.zeros((matrix.shape[0], matrix.shape[1]* n_bases),dtype=np.int8)\n",
    "    print(\"starting from shape\", one_hot.shape)\n",
    "    \n",
    "    for idx in range(matrix.shape[0]):\n",
    "        for jdx in range(matrix.shape[1]):\n",
    "            one_hot[idx, jdx*n_bases + BASE_TO_COLUMN[matrix[idx,jdx]]] = 1 \n",
    "\n",
    "    return one_hot\n"
   ]
  },
  {
   "cell_type": "code",
   "execution_count": 6,
   "metadata": {},
   "outputs": [
    {
     "name": "stdout",
     "output_type": "stream",
     "text": [
      "fastas_reduced/rpoBC_reduced.fa\n",
      "fastas_reduced/rpsL_reduced.fa\n",
      "fastas_reduced/gyrBA_reduced.fa\n",
      "fastas_reduced/clpC_reduced.fa\n",
      "fastas_reduced/embCAB_reduced.fa\n",
      "fastas_reduced/rrs-rrl_reduced.fa\n",
      "fastas_reduced/pncA_reduced.fa\n",
      "fastas_reduced/panD_reduced.fa\n",
      "fastas_reduced/tlyA_reduced.fa\n",
      "fastas_reduced/FabG1-inhA_reduced.fa\n",
      "fastas_reduced/KatG_reduced.fa\n",
      "fastas_reduced/gid_reduced.fa\n",
      "fastas_reduced/eis_reduced.fa\n",
      "fastas_reduced/oxyR-ahpC_reduced.fa\n",
      "fastas_reduced/ethAR_reduced.fa\n",
      "fastas_reduced/aftB-ubiA_reduced.fa\n",
      "fastas_reduced/acpM-kasA_reduced.fa\n",
      "fastas_reduced/rpsA_reduced.fa\n",
      "total sites 3011\n"
     ]
    }
   ],
   "source": [
    "# #### Make combined matrix of all the positions we'll be learning on\n",
    "\n",
    "files = ['fastas_reduced/rpoBC_reduced.fa',\n",
    " 'fastas_reduced/rpsL_reduced.fa',\n",
    " 'fastas_reduced/gyrBA_reduced.fa',\n",
    " 'fastas_reduced/clpC_reduced.fa',\n",
    " 'fastas_reduced/embCAB_reduced.fa',\n",
    " 'fastas_reduced/rrs-rrl_reduced.fa',\n",
    " 'fastas_reduced/pncA_reduced.fa',\n",
    " 'fastas_reduced/panD_reduced.fa',\n",
    " 'fastas_reduced/tlyA_reduced.fa',\n",
    " 'fastas_reduced/FabG1-inhA_reduced.fa',\n",
    " 'fastas_reduced/KatG_reduced.fa',\n",
    " 'fastas_reduced/gid_reduced.fa',\n",
    " 'fastas_reduced/eis_reduced.fa',\n",
    " 'fastas_reduced/oxyR-ahpC_reduced.fa',\n",
    " 'fastas_reduced/ethAR_reduced.fa',\n",
    " 'fastas_reduced/aftB-ubiA_reduced.fa',\n",
    " 'fastas_reduced/acpM-kasA_reduced.fa',\n",
    " 'fastas_reduced/rpsA_reduced.fa']\n",
    "\n",
    "# Compute the total number of sites in our model by summing the length of all the alignment\n",
    "total_sites = 0\n",
    "for f in files:\n",
    "    print(f)\n",
    "    aln = Alignment.from_file(open(f))\n",
    "    total_sites += aln.L\n",
    "print(\"total sites\", total_sites)\n",
    "total_seqs = aln.N"
   ]
  },
  {
   "cell_type": "code",
   "execution_count": 7,
   "metadata": {},
   "outputs": [
    {
     "name": "stdout",
     "output_type": "stream",
     "text": [
      "(23040, 3011)\n"
     ]
    }
   ],
   "source": [
    "\n",
    "# Matrix to store the data for learning\n",
    "X = np.zeros((total_seqs, total_sites), dtype=np.int8)\n",
    "\n",
    "current_index = 0\n",
    "\n",
    "for f in files:\n",
    "    #print(f)\n",
    "    aln = Alignment.from_file(open(f), alphabet='-ACGT')\n",
    "    \n",
    "    # Tells you which character is the most frequent in each site\n",
    "    who_is_max = np.argmax(aln.frequencies, axis=1)\n",
    "    \n",
    "    # Major allele is encoded as 0, minor allele(s) as 1\n",
    "    major_minor = aln.matrix_mapped != who_is_max\n",
    "    \n",
    "    # Add the encoding to the X matrix\n",
    "    X[:, current_index:(current_index + major_minor.shape[1])] = major_minor\n",
    "    \n",
    "    # Keep track of how many sites in X we have filled in\n",
    "    current_index = current_index + major_minor.shape[1]\n",
    "\n",
    "np.save(\"combined_X.npy\", X)\n",
    "print(X.shape)"
   ]
  },
  {
   "cell_type": "code",
   "execution_count": 8,
   "metadata": {},
   "outputs": [
    {
     "name": "stdout",
     "output_type": "stream",
     "text": [
      "fastas_reduced/rpoBC_reduced.fa\n",
      "fastas_reduced/rpsL_reduced.fa\n",
      "fastas_reduced/gyrBA_reduced.fa\n",
      "fastas_reduced/clpC_reduced.fa\n",
      "fastas_reduced/embCAB_reduced.fa\n",
      "fastas_reduced/rrs-rrl_reduced.fa\n",
      "fastas_reduced/pncA_reduced.fa\n",
      "fastas_reduced/panD_reduced.fa\n",
      "fastas_reduced/tlyA_reduced.fa\n",
      "fastas_reduced/FabG1-inhA_reduced.fa\n",
      "fastas_reduced/KatG_reduced.fa\n",
      "fastas_reduced/gid_reduced.fa\n",
      "fastas_reduced/eis_reduced.fa\n",
      "fastas_reduced/oxyR-ahpC_reduced.fa\n",
      "fastas_reduced/ethAR_reduced.fa\n",
      "fastas_reduced/aftB-ubiA_reduced.fa\n",
      "fastas_reduced/acpM-kasA_reduced.fa\n",
      "fastas_reduced/rpsA_reduced.fa\n",
      "3011 3011\n"
     ]
    }
   ],
   "source": [
    "# Make a table of all of the sites in the model for later mapping\n",
    "# Note that the sites listed here are indexed within each fasta file - NOT the MTB genome\n",
    "total_sites = []\n",
    "genes = []\n",
    "\n",
    "for f in files:\n",
    "    print(f)\n",
    "    \n",
    "    gene_name = f.split(\"fastas_reduced/\")[-1].split(\"_\")[0]\n",
    "    \n",
    "    numpy_file = f.split(\"reduced.fa\")[0] + \"indices.npy\"\n",
    "\n",
    "    sites = np.load(numpy_file)\n",
    "    \n",
    "    sites = sorted(list(sites))\n",
    "    \n",
    "    total_sites += list(sites)\n",
    "    genes += [gene_name] * len(list(sites))\n",
    "\n",
    "print(len(genes), len(total_sites))\n",
    "    \n",
    "df = pd.DataFrame({\n",
    "    \"locus\": genes,\n",
    "    \"sites\": total_sites,\n",
    "})\n",
    "\n",
    "df.to_csv(\"site_indices.csv\")"
   ]
  },
  {
   "cell_type": "code",
   "execution_count": 4,
   "metadata": {},
   "outputs": [
    {
     "name": "stdout",
     "output_type": "stream",
     "text": [
      "(23040, 3051)\n"
     ]
    }
   ],
   "source": [
    "## Create combined genotype phenotype table\n",
    "\n",
    "phenotypes =  pd.read_csv(\"/n/data2/hms/dbmi/beamlab/annachang/focus_cnn/master_table_resistance.csv\", index_col=0)\n",
    "\n",
    "# Convert phenotypes to numeric\n",
    "y_all_rs = phenotypes.fillna('-1')\n",
    "y_all_rs = y_all_rs.astype(str)\n",
    "resistance_categories = {'R': 0, 'S': 1, '-1.0': -1, '-1': -1}\n",
    "\n",
    "y_all = y_all_rs.copy()\n",
    "for key, val in resistance_categories.items():\n",
    "    y_all[y_all_rs == key] = val\n",
    "\n",
    "# Fill missing data with nans\n",
    "y_all[y_all==-1] = np.nan\n",
    "phenotypes=y_all\n",
    "\n",
    "# read in X matrix and isolate indexes \n",
    "X_all = np.load(\"combined_X.npy\")\n",
    "\n",
    "# Create a dataframe of X's with one row per isolate\n",
    "indices = pd.read_csv(\"isolate_indexes.csv\", index_col=0)\n",
    "X_df = pd.concat([indices, pd.DataFrame(X_all)], axis=1)\n",
    "\n",
    "# Add column names corresponding to position\n",
    "column_names = pd.read_csv(\"site_indices.csv\", index_col=0)\n",
    "colnames = [\"isolate\"] + [f\"{x}_{y}\" for x,y in zip(column_names.locus, column_names.sites)]\n",
    "X_df.columns = colnames\n",
    "\n",
    "# Merge with phenotypes and save\n",
    "X_df = X_df.merge(phenotypes, right_on=\"Isolate\", left_on=\"isolate\", how=\"left\")\n",
    "print(X_df.shape)\n",
    "X_df.to_csv(\"combined_geno_pheno_df.csv\")"
   ]
  },
  {
   "cell_type": "code",
   "execution_count": null,
   "metadata": {},
   "outputs": [],
   "source": []
  }
 ],
 "metadata": {
  "kernelspec": {
   "display_name": "Python 3",
   "language": "python",
   "name": "python3"
  },
  "language_info": {
   "codemirror_mode": {
    "name": "ipython",
    "version": 3
   },
   "file_extension": ".py",
   "mimetype": "text/x-python",
   "name": "python",
   "nbconvert_exporter": "python",
   "pygments_lexer": "ipython3",
   "version": "3.7.4"
  }
 },
 "nbformat": 4,
 "nbformat_minor": 4
}
