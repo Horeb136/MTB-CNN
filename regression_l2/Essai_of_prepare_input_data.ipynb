{
 "cells": [
  {
   "cell_type": "code",
   "execution_count": 6,
   "metadata": {},
   "outputs": [],
   "source": [
    "import numpy as np\n",
    "import pandas as pd\n",
    "from scipy import stats\n",
    "import time\n",
    "import evcouplings\n",
    "#from evcouplings.align import Alignment # install this using 'pip install evcouplings'\n",
    "import glob\n"
   ]
  },
  {
   "cell_type": "code",
   "execution_count": 7,
   "metadata": {
    "tags": []
   },
   "outputs": [
    {
     "name": "stderr",
     "output_type": "stream",
     "text": [
      "/tmp/ipykernel_4523/1013361237.py:2: DtypeWarning: Columns (3,4,7,8,9,12,17,20,22) have mixed types. Specify dtype option on import or set low_memory=False.\n",
      "  phenotypes =  pd.read_csv(\"../input_data/master_table_resistance.csv\")\n"
     ]
    }
   ],
   "source": [
    "# Read in list of isolates\n",
    "phenotypes =  pd.read_csv(\"../input_data/master_table_resistance.csv\")\n",
    "isolate_order = list(phenotypes.Isolate)"
   ]
  },
  {
   "cell_type": "code",
   "execution_count": 11,
   "metadata": {
    "tags": []
   },
   "outputs": [
    {
     "name": "stdout",
     "output_type": "stream",
     "text": [
      "mkdir: cannot create directory ‘fastas_reduced’: File exists\n"
     ]
    },
    {
     "ename": "NameError",
     "evalue": "name 'subset_alignment' is not defined",
     "output_type": "error",
     "traceback": [
      "\u001b[0;31m---------------------------------------------------------------------------\u001b[0m",
      "\u001b[0;31mNameError\u001b[0m                                 Traceback (most recent call last)",
      "Cell \u001b[0;32mIn[11], line 46\u001b[0m\n\u001b[1;32m     43\u001b[0m     np\u001b[38;5;241m.\u001b[39msave(\u001b[38;5;124mf\u001b[39m\u001b[38;5;124m\"\u001b[39m\u001b[38;5;124mfastas_reduced/\u001b[39m\u001b[38;5;132;01m{\u001b[39;00mname\u001b[38;5;132;01m}\u001b[39;00m\u001b[38;5;124m_indices.npy\u001b[39m\u001b[38;5;124m\"\u001b[39m, indices_to_keep)\n\u001b[1;32m     45\u001b[0m \u001b[38;5;66;03m# Save the isolate indices in order, just in case\u001b[39;00m\n\u001b[0;32m---> 46\u001b[0m pd\u001b[38;5;241m.\u001b[39mDataFrame(\u001b[43msubset_alignment\u001b[49m\u001b[38;5;241m.\u001b[39mids)\u001b[38;5;241m.\u001b[39mto_csv(\u001b[38;5;124m\"\u001b[39m\u001b[38;5;124misolate_indexes.csv\u001b[39m\u001b[38;5;124m\"\u001b[39m)\n",
      "\u001b[0;31mNameError\u001b[0m: name 'subset_alignment' is not defined"
     ]
    }
   ],
   "source": [
    "# Iterate through each fasta file, select only the positions with a high enough MAF\n",
    "# Keep only the isolates with phenotype data, reorder the alignment to match isolate_order\n",
    "# save a reduced fasta file\n",
    "!mkdir fastas_reduced\n",
    "path_to_fastas = \"../input_data/fasta_files\"\n",
    "for f in glob.glob(f\"{path_to_fastas}/*.fasta\"):\n",
    "    print(f)\n",
    "    # Reads the alignment file\n",
    "    aln = Alignment.from_file(open(f))\n",
    "    \n",
    "    # Impose a minor allele frequency threshold of 0.001 in order to keep computation tractable\n",
    "    # NOTE: the order in which you do the MAF thresholding and then subsetting the isolates matters!\n",
    "    # Here it's fine because the only isolates in my fasta files are the ones that have phenotypes\n",
    "    indices_to_keep = np.where(aln.frequencies.max(axis=1) < .999)[0]\n",
    "    subset_alignment = aln.select(indices_to_keep)\n",
    "    \n",
    "    print(\"original alignment shape\", aln.matrix.shape)\n",
    "    print(\"reduced alignment shape\", subset_alignment.matrix.shape)\n",
    "    # Cleanup giant variables\n",
    "    del aln\n",
    "\n",
    "    # Get a list of the ids we are keeping, in order\n",
    "    \n",
    "    # First, correct the ids in the alignment so that they match the table of phenotypes\n",
    "    subset_alignment.ids = [x.split(\"/\")[-1].split(\".\")[0] for x in subset_alignment.ids]\n",
    "    subset_alignment.id_to_index = {x:idx for idx,x in enumerate(subset_alignment.ids)}\n",
    "    \n",
    "    # Get the indices that would correctly reorder the alignment to match isolate_order\n",
    "    reorder_index = [\n",
    "        subset_alignment.id_to_index[x] for x in isolate_order if x in subset_alignment.id_to_index\n",
    "    ]\n",
    "    \n",
    "    # Reorder based on reorder_index\n",
    "    subset_alignment.ids = list(np.array(subset_alignment.ids)[reorder_index])\n",
    "    subset_alignment.matrix = subset_alignment.matrix[reorder_index, :]\n",
    "    print(\"shape with isolates ordered\", subset_alignment.matrix.shape)\n",
    "    \n",
    "    # Get the name of the fasta file for saving\n",
    "    name = f.split(\"/\")[-1].split(\"_\")[0]\n",
    "    \n",
    "    # save the reduced file\n",
    "    subset_alignment.write(open(f\"fastas_reduced/{name}_reduced.fa\", \"w\"))\n",
    "    np.save(f\"fastas_reduced/{name}_indices.npy\", indices_to_keep)\n",
    "    \n",
    "# Save the isolate indices in order, just in case\n",
    "pd.DataFrame(subset_alignment.ids).to_csv(\"isolate_indexes.csv\")"
   ]
  },
  {
   "cell_type": "code",
   "execution_count": 23,
   "metadata": {
    "tags": []
   },
   "outputs": [],
   "source": [
    "path_to_fastas = \"../input_data/fasta_files\"\n",
    "for f in glob.glob(f\"{path_to_fastas}/*.fasta\"):\n",
    "    print(f)\n",
    "    aln = Alignment.from_file(open(f))"
   ]
  },
  {
   "cell_type": "code",
   "execution_count": null,
   "metadata": {},
   "outputs": [],
   "source": []
  }
 ],
 "metadata": {
  "kernelspec": {
   "display_name": "Python 3 (ipykernel)",
   "language": "python",
   "name": "python3"
  },
  "language_info": {
   "codemirror_mode": {
    "name": "ipython",
    "version": 3
   },
   "file_extension": ".py",
   "mimetype": "text/x-python",
   "name": "python",
   "nbconvert_exporter": "python",
   "pygments_lexer": "ipython3",
   "version": "3.10.8"
  }
 },
 "nbformat": 4,
 "nbformat_minor": 4
}
